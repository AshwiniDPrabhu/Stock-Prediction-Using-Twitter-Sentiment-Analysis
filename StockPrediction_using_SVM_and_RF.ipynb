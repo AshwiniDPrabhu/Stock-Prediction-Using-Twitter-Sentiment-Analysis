{
  "nbformat": 4,
  "nbformat_minor": 0,
  "metadata": {
    "colab": {
      "name": "StockPrediction_using_SVM_and_RF.ipynb",
      "provenance": [],
      "collapsed_sections": []
    },
    "kernelspec": {
      "name": "python3",
      "display_name": "Python 3"
    }
  },
  "cells": [
    {
      "cell_type": "code",
      "metadata": {
        "id": "jD8nVGIhrJLy",
        "colab_type": "code",
        "outputId": "f954d7ed-c0ad-461a-8188-526804b47f27",
        "colab": {
          "base_uri": "https://localhost:8080/",
          "height": 598
        }
      },
      "source": [
        "!pip install yfinance\n",
        "!pip install GetOldTweets3\n",
        "!pip install treeinterpreter"
      ],
      "execution_count": 0,
      "outputs": [
        {
          "output_type": "stream",
          "text": [
            "Collecting yfinance\n",
            "  Downloading https://files.pythonhosted.org/packages/c2/31/8b374a12b90def92a4e27d0fc595fc43635f395984e36a075244d98bd265/yfinance-0.1.54.tar.gz\n",
            "Requirement already satisfied: pandas>=0.24 in /usr/local/lib/python3.6/dist-packages (from yfinance) (1.0.3)\n",
            "Requirement already satisfied: numpy>=1.15 in /usr/local/lib/python3.6/dist-packages (from yfinance) (1.18.3)\n",
            "Requirement already satisfied: requests>=2.20 in /usr/local/lib/python3.6/dist-packages (from yfinance) (2.23.0)\n",
            "Requirement already satisfied: multitasking>=0.0.7 in /usr/local/lib/python3.6/dist-packages (from yfinance) (0.0.9)\n",
            "Requirement already satisfied: python-dateutil>=2.6.1 in /usr/local/lib/python3.6/dist-packages (from pandas>=0.24->yfinance) (2.8.1)\n",
            "Requirement already satisfied: pytz>=2017.2 in /usr/local/lib/python3.6/dist-packages (from pandas>=0.24->yfinance) (2018.9)\n",
            "Requirement already satisfied: certifi>=2017.4.17 in /usr/local/lib/python3.6/dist-packages (from requests>=2.20->yfinance) (2020.4.5.1)\n",
            "Requirement already satisfied: urllib3!=1.25.0,!=1.25.1,<1.26,>=1.21.1 in /usr/local/lib/python3.6/dist-packages (from requests>=2.20->yfinance) (1.24.3)\n",
            "Requirement already satisfied: chardet<4,>=3.0.2 in /usr/local/lib/python3.6/dist-packages (from requests>=2.20->yfinance) (3.0.4)\n",
            "Requirement already satisfied: idna<3,>=2.5 in /usr/local/lib/python3.6/dist-packages (from requests>=2.20->yfinance) (2.9)\n",
            "Requirement already satisfied: six>=1.5 in /usr/local/lib/python3.6/dist-packages (from python-dateutil>=2.6.1->pandas>=0.24->yfinance) (1.12.0)\n",
            "Building wheels for collected packages: yfinance\n",
            "  Building wheel for yfinance (setup.py) ... \u001b[?25l\u001b[?25hdone\n",
            "  Created wheel for yfinance: filename=yfinance-0.1.54-py2.py3-none-any.whl size=22409 sha256=0f760f73f73d628283ca7773e3a0fc463b3e07580aa803f9d1575e74870553f9\n",
            "  Stored in directory: /root/.cache/pip/wheels/f9/e3/5b/ec24dd2984b12d61e0abf26289746c2436a0e7844f26f2515c\n",
            "Successfully built yfinance\n",
            "Installing collected packages: yfinance\n",
            "Successfully installed yfinance-0.1.54\n",
            "Collecting GetOldTweets3\n",
            "  Downloading https://files.pythonhosted.org/packages/ed/f4/a00c2a7c90801abc875325bb5416ce9090ac86d06a00cc887131bd73ba45/GetOldTweets3-0.0.11-py3-none-any.whl\n",
            "Requirement already satisfied: lxml>=3.5.0 in /usr/local/lib/python3.6/dist-packages (from GetOldTweets3) (4.2.6)\n",
            "Collecting pyquery>=1.2.10\n",
            "  Downloading https://files.pythonhosted.org/packages/78/43/95d42e386c61cb639d1a0b94f0c0b9f0b7d6b981ad3c043a836c8b5bc68b/pyquery-1.4.1-py2.py3-none-any.whl\n",
            "Collecting cssselect>0.7.9\n",
            "  Downloading https://files.pythonhosted.org/packages/3b/d4/3b5c17f00cce85b9a1e6f91096e1cc8e8ede2e1be8e96b87ce1ed09e92c5/cssselect-1.1.0-py2.py3-none-any.whl\n",
            "Installing collected packages: cssselect, pyquery, GetOldTweets3\n",
            "Successfully installed GetOldTweets3-0.0.11 cssselect-1.1.0 pyquery-1.4.1\n",
            "Collecting treeinterpreter\n",
            "  Downloading https://files.pythonhosted.org/packages/56/cb/78ec761719d2546d4bb75ec02773d01c0a0e8229fe3f8edf6a6ac961e24e/treeinterpreter-0.2.2-py2.py3-none-any.whl\n",
            "Installing collected packages: treeinterpreter\n",
            "Successfully installed treeinterpreter-0.2.2\n"
          ],
          "name": "stdout"
        }
      ]
    },
    {
      "cell_type": "code",
      "metadata": {
        "id": "oX1x8Oj5rQ2_",
        "colab_type": "code",
        "colab": {}
      },
      "source": [
        "import datetime\n",
        "import GetOldTweets3 as got\n",
        "import yfinance as yf\n",
        "import matplotlib.pyplot as plt\n",
        "import pandas as pd\n",
        "import numpy as np\n",
        "import csv"
      ],
      "execution_count": 0,
      "outputs": []
    },
    {
      "cell_type": "code",
      "metadata": {
        "id": "Iz1xNzvKXwCs",
        "colab_type": "code",
        "colab": {}
      },
      "source": [
        "import sys\n",
        "import re\n",
        "import string\n",
        "import json\n",
        "import os"
      ],
      "execution_count": 0,
      "outputs": []
    },
    {
      "cell_type": "code",
      "metadata": {
        "id": "XxBZ351xze-e",
        "colab_type": "code",
        "outputId": "0f469c92-222e-4e92-bf4b-a019be698949",
        "colab": {
          "base_uri": "https://localhost:8080/",
          "height": 190
        }
      },
      "source": [
        "import nltk\n",
        "nltk.download('vader_lexicon')\n",
        "nltk.download('wordnet')\n",
        "nltk.download('stopwords')\n",
        "nltk.download('punkt')\n",
        "from nltk.corpus import stopwords\n",
        "from nltk.tokenize import word_tokenize\n",
        "\n",
        "from nltk.sentiment.vader import SentimentIntensityAnalyzer\n",
        "from nltk.sentiment.vader import SentimentIntensityAnalyzer\n",
        "import unicodedata\n",
        "sentiment_i_a = SentimentIntensityAnalyzer()\n",
        "\n",
        "from nltk.corpus import subjectivity\n",
        "from nltk.sentiment import SentimentAnalyzer\n",
        "from nltk.sentiment.util import *"
      ],
      "execution_count": 0,
      "outputs": [
        {
          "output_type": "stream",
          "text": [
            "[nltk_data] Downloading package vader_lexicon to /root/nltk_data...\n",
            "[nltk_data] Downloading package wordnet to /root/nltk_data...\n",
            "[nltk_data]   Unzipping corpora/wordnet.zip.\n",
            "[nltk_data] Downloading package stopwords to /root/nltk_data...\n",
            "[nltk_data]   Unzipping corpora/stopwords.zip.\n",
            "[nltk_data] Downloading package punkt to /root/nltk_data...\n",
            "[nltk_data]   Unzipping tokenizers/punkt.zip.\n"
          ],
          "name": "stdout"
        },
        {
          "output_type": "stream",
          "text": [
            "/usr/local/lib/python3.6/dist-packages/nltk/twitter/__init__.py:20: UserWarning: The twython library has not been installed. Some functionality from the twitter package will not be available.\n",
            "  warnings.warn(\"The twython library has not been installed. \"\n"
          ],
          "name": "stderr"
        }
      ]
    },
    {
      "cell_type": "code",
      "metadata": {
        "id": "aaSotX5Dy8DQ",
        "colab_type": "code",
        "outputId": "96bab570-0bbd-40fb-abab-9dba570f79bd",
        "colab": {
          "base_uri": "https://localhost:8080/",
          "height": 71
        }
      },
      "source": [
        "from sklearn.model_selection import train_test_split\n",
        "from treeinterpreter import treeinterpreter as ti\n",
        "from sklearn.tree import DecisionTreeRegressor\n",
        "from sklearn.ensemble import RandomForestRegressor\n",
        "\n",
        "from sklearn import svm\n",
        "from sklearn.svm import SVR \n",
        "\n",
        "from sklearn.metrics import mean_squared_error\n",
        "from math import sqrt\n"
      ],
      "execution_count": 0,
      "outputs": [
        {
          "output_type": "stream",
          "text": [
            "/usr/local/lib/python3.6/dist-packages/sklearn/utils/deprecation.py:144: FutureWarning: The sklearn.ensemble.forest module is  deprecated in version 0.22 and will be removed in version 0.24. The corresponding classes / functions should instead be imported from sklearn.ensemble. Anything that cannot be imported from sklearn.ensemble is now part of the private API.\n",
            "  warnings.warn(message, FutureWarning)\n"
          ],
          "name": "stderr"
        }
      ]
    },
    {
      "cell_type": "code",
      "metadata": {
        "id": "z6UOzUuJsRkY",
        "colab_type": "code",
        "colab": {}
      },
      "source": [
        "#Get stock data for the given Stock Name\n",
        "def getStockDetails(stockname,start_time,end_time):\n",
        "  company = yf.Ticker(stockname)\n",
        "  company.info.get(\"longName\")\n",
        "  stockData = yf.download(stockname, start=start_time, end=end_time)\n",
        "  print(\"\\n Stock Data Obtained \")\n",
        "  print(stockData.head())\n",
        "  print(\"\\n\")\n",
        "  plt.title('Time series chart of Closing stocks for ' + company.info.get(\"longName\"))\n",
        "  plt.plot(stockData[\"Close\"])\n",
        "  plt.show()\n",
        "  print(\"\\n\")\n",
        "  stockData.to_csv('stockData_' + stockname + '.csv')"
      ],
      "execution_count": 0,
      "outputs": []
    },
    {
      "cell_type": "code",
      "metadata": {
        "id": "P3EEVsKAW9We",
        "colab_type": "code",
        "colab": {}
      },
      "source": [
        "#Method for data cleaning\n",
        "class TweetCleaner:\n",
        "    def __init__(self):\n",
        "        self.stop_words = set(stopwords.words('english'))\n",
        "        self.punc_table = str.maketrans(\"\", \"\", string.punctuation) # to remove punctuation from each word in tokenize\n",
        "\n",
        "    def compound_word_split(self, compound_word):\n",
        "        matches = re.finditer('.+?(?:(?<=[a-z])(?=[A-Z])|(?<=[A-Z])(?=[A-Z][a-z])|$)', compound_word)\n",
        "        return [m.group(0) for m in matches]\n",
        "\n",
        "    def remove_non_ascii_chars(self, text):\n",
        "        return ''.join([w if ord(w) < 128 else ' ' for w in text])\n",
        "\n",
        "    def remove_hyperlinks(self,text):\n",
        "        return ' '.join([w for w in text.split(' ')  if not 'http' in w])\n",
        "\n",
        "    def get_cleaned_text(self, text):\n",
        "        cleaned_tweet = text.replace('\\\"','').replace('\\'','').replace('-',' ')\n",
        "        cleaned_tweet =  self.remove_non_ascii_chars(cleaned_tweet)\n",
        "        if re.match(r'RT @[_A-Za-z0-9]+:',cleaned_tweet):\n",
        "            cleaned_tweet = cleaned_tweet[cleaned_tweet.index(':')+2:]\n",
        "        cleaned_tweet = self.remove_hyperlinks(cleaned_tweet)\n",
        "        cleaned_tweet = cleaned_tweet.replace('#','HASHTAGSYMBOL').replace('@','ATSYMBOL') # to avoid being removed while removing punctuations\n",
        "        tokens = [w.translate(self.punc_table) for w in word_tokenize(cleaned_tweet)] # remove punctuations and tokenize\n",
        "        tokens = [nltk.WordNetLemmatizer().lemmatize(w) for w in tokens if not w.lower() in self.stop_words and len(w)>1] # remove stopwords and single length words\n",
        "        cleaned_tweet = ' '.join(tokens)\n",
        "        cleaned_tweet = cleaned_tweet.replace('HASHTAGSYMBOL','#').replace('ATSYMBOL','@')\n",
        "        cleaned_tweet = cleaned_tweet\n",
        "        return cleaned_tweet\n",
        "\n",
        "    def clean_tweets(self, tweets, is_bytes = False):   \n",
        "        test_tweet_list = []\n",
        "        for tweet in tweets:\n",
        "            if is_bytes:\n",
        "                test_tweet_list.append(self.get_cleaned_text(ast.literal_eval(tweet).decode(\"UTF-8\")))\n",
        "            else:\n",
        "                test_tweet_list.append(self.get_cleaned_text(tweet))\n",
        "        return test_tweet_list\n",
        "    \n",
        "    def clean_single_tweet(self, tweet, is_bytes = False):  \n",
        "        if is_bytes:\n",
        "             return self.get_cleaned_text(ast.literal_eval(tweet).decode(\"UTF-8\"))\n",
        "        return self.get_cleaned_text(tweet)\n",
        "    \n",
        "    def cleaned_file_creator(self, op_file_name, value1, value2):\n",
        "        csvFile = open(op_file_name, 'w+')\n",
        "        csvWriter = csv.writer(csvFile)\n",
        "        for tweet in range(len(value1)):\n",
        "            csvWriter.writerow([value1[tweet], value2[tweet]])\n",
        "        csvFile.close()"
      ],
      "execution_count": 0,
      "outputs": []
    },
    {
      "cell_type": "code",
      "metadata": {
        "id": "8L64V6Mzrp4i",
        "colab_type": "code",
        "colab": {}
      },
      "source": [
        "#Method for fetching tweets\n",
        "def fetchTweets(stockname,start_time,end_time):\n",
        "  csvFile = open('tweets_' + stockname + '.csv', 'a',encoding=\"utf-8\")\n",
        "  csvWriter = csv.writer(csvFile, lineterminator= '\\n')\n",
        "  cleanObj = TweetCleaner()\n",
        "  \n",
        "  tweetCriteria = got.manager.TweetCriteria().setQuerySearch(stockname).setSince(start_time).setUntil(end_time).setTopTweets(\"true\") \n",
        "  tweets = got.manager.TweetManager.getTweets(tweetCriteria)\n",
        "  try:\n",
        "    for tweet in tweets:\n",
        "      tweet_text = tweet.text.encode('utf-8')\n",
        "      tweet_text = cleanObj.get_cleaned_text(tweet_text.decode())\n",
        "      tweetDate = tweet.date.date()\n",
        "      csvWriter.writerow([tweetDate, tweet.text])\n",
        "  except BaseException as e:\n",
        "      print('failed on_status,',str(e))\n"
      ],
      "execution_count": 0,
      "outputs": []
    },
    {
      "cell_type": "code",
      "metadata": {
        "id": "Ze2LxvtM3VnW",
        "colab_type": "code",
        "colab": {}
      },
      "source": [
        "#Method for processing tweets\n",
        "def processTweets(stockname):\n",
        "  columns=['Date','Tweets']\n",
        "  data = pd.DataFrame(columns)\n",
        "  df = pd.read_csv('tweets_' + stockname  + '.csv',encoding='utf-8', names=columns, header=None)\n",
        "  \n",
        "  indx=0\n",
        "  get_tweet=\"\"\n",
        "  #get tweets day wise\n",
        "  for i in range(0,len(df)-1):\n",
        "    get_date=df.Date.iloc[i]\n",
        "    next_date=df.Date.iloc[i+1]\n",
        "    if(str(get_date)==str(next_date)):\n",
        "      get_tweet = get_tweet + df.Tweets.iloc[i]+\" \"\n",
        "    if(str(get_date)!=str(next_date)):\n",
        "      data.at[indx,'Date'] = get_date\n",
        "      data.at[indx,'Tweets'] = get_tweet\n",
        "      indx=indx+1\n",
        "      get_tweet=\" \"\n",
        "\n",
        "  #get respective prices for each day using stockData\n",
        "  data['Prices']=\"\"\n",
        "  readStockData = pd.read_csv('stockData_' + stockname + '.csv')\n",
        "  readStockData.columns = [c.replace(' ', '_') for c in readStockData.columns]\n",
        "  for i in range (0,len(data)):\n",
        "      for j in range (0,len(readStockData)):\n",
        "          get_tweet_date = data.Date.iloc[i]\n",
        "          get_stock_date = readStockData.Date.iloc[j]\n",
        "          if(str(get_stock_date)==str(get_tweet_date)):\n",
        "            data.at[i,'Prices'] = int(readStockData.Adj_Close[j])\n",
        "            break\n",
        "\n",
        "  #drop rows that do not have Price values\n",
        "  data['Prices'].replace('', np.nan, inplace=True)\n",
        "  data.dropna(subset=['Prices'], inplace=True)\n",
        "  data.reset_index(drop=True, inplace=True)\n",
        "  data['Prices'] = data['Prices'].apply(np.int64)\n",
        "  data.drop(0, 1, inplace=True)\n",
        "  print(data.head())\n",
        "  data.to_csv('processedTweets_' + stockname  + '.csv')\n"
      ],
      "execution_count": 0,
      "outputs": []
    },
    {
      "cell_type": "code",
      "metadata": {
        "id": "TLsopWAOs7c5",
        "colab_type": "code",
        "colab": {}
      },
      "source": [
        "#Method for sentiment analysis for tweets\n",
        "def sentimentAnalysis(stockname):\n",
        "  data = pd.read_csv('processedTweets_' + stockname  + '.csv', encoding='utf-8')\n",
        "  data[\"Comp\"] = ''\n",
        "  data[\"Negative\"] = ''\n",
        "  data[\"Neutral\"] = ''\n",
        "  data[\"Positive\"] = ''\n",
        "  for indexx, row in data.T.iteritems():\n",
        "    try:\n",
        "      sentence_i = unicodedata.normalize('NFKD', data.loc[indexx, 'Tweets'])\n",
        "      sentence_sentiment = sentiment_i_a.polarity_scores(sentence_i)\n",
        "      data.at[indexx, 'Comp'] =  sentence_sentiment['compound']\n",
        "      data.at[indexx, 'Negative'] = sentence_sentiment['neg']\n",
        "      data.at[indexx, 'Neutral'] =  sentence_sentiment['neu']\n",
        "      data.at[indexx, 'Positive'] = sentence_sentiment['pos'] \n",
        "    except TypeError:\n",
        "      print('failed on_status,',str(e))\n",
        "\n",
        "  data.drop(['Unnamed: 0'], 1, inplace=True)\n",
        "  print(data.head())\n",
        "  data.to_csv('sentimentAnalysis_' + stockname  + '.csv')\n",
        "\n",
        "  posi=0\n",
        "  nega=0\n",
        "  neutral = 0\n",
        "  for i in range (0,len(data)):\n",
        "    get_val = data.Comp[i]\n",
        "    if(float(get_val)<(0)):\n",
        "        nega=nega+1\n",
        "    if(float(get_val>(0))):\n",
        "        posi=posi+1\n",
        "    if(float(get_val)==(0)):\n",
        "        neutral=neutral+1\n",
        "  \n",
        "  posper=(posi/(len(data)))*100\n",
        "  negper=(nega/(len(data)))*100\n",
        "  neutralper=(neutral/(len(data)))*100\n",
        "\n",
        "  arr=np.asarray([posper,negper,neutralper], dtype=int)\n",
        "  plt.figure()\n",
        "  plt.pie(arr,labels=['positive','negative', 'neutral'])\n",
        "  plt.plot()\n",
        "\n",
        "  print(\"% of positive tweets= \",posper)\n",
        "  print(\"% of negative tweets= \",negper)\n",
        "  print(\"% of neutral tweets= \",neutralper)\n",
        "  "
      ],
      "execution_count": 0,
      "outputs": []
    },
    {
      "cell_type": "code",
      "metadata": {
        "id": "5AenqyjW2yAa",
        "colab_type": "code",
        "colab": {}
      },
      "source": [
        "#Method for stock price prediction using random forest model\n",
        "def RandomForestModel(stockname):\n",
        "  df = pd.read_csv('sentimentAnalysis_' + stockname  + '.csv', encoding='utf-8')\n",
        "  train, test = train_test_split(df, shuffle=False, test_size=0.2)\n",
        "\n",
        "  sentiment_score_list_train = []\n",
        "  for date, row in train.T.iteritems():\n",
        "    sentiment_score = np.asarray([df.loc[date, 'Negative'],  df.loc[date, 'Neutral'], df.loc[date, 'Positive']])\n",
        "    sentiment_score_list_train.append(sentiment_score)\n",
        "  numpy_df_train = np.asarray(sentiment_score_list_train)\n",
        "\n",
        "  sentiment_score_list_test = []\n",
        "  for date, row in test.T.iteritems():\n",
        "    sentiment_score = np.asarray([df.loc[date, 'Negative'],  df.loc[date, 'Neutral'], df.loc[date, 'Positive']])\n",
        "    sentiment_score_list_test.append(sentiment_score)\n",
        "  numpy_df_test = np.asarray(sentiment_score_list_test)\n",
        "\n",
        "  y_train = pd.DataFrame(train['Prices'])\n",
        "  y_test = pd.DataFrame(test['Prices'])\n",
        "\n",
        "  rf = RandomForestRegressor()\n",
        "  rf.fit(numpy_df_train, y_train)\n",
        "  prediction, bias, contributions = ti.predict(rf, numpy_df_test)\n",
        "\n",
        "  print(\"\\n\\n\")\n",
        "  plt.figure()\n",
        "  plt.plot(test['Prices'].iloc[:].values)\n",
        "  plt.plot(prediction.flatten())\n",
        "  plt.title('Random Forest predicted prices')\n",
        "  plt.ylabel('Stock Prices')\n",
        "  plt.xlabel('Days')\n",
        "  plt.legend(['actual', 'predicted'])\n",
        "  plt.show()\n",
        "\n",
        "  print(\"\\n\\n\")\n",
        "  print(\"RMSE value for Random Forest Model : \")\n",
        "  rmse = sqrt(mean_squared_error(y_test, prediction.flatten()))\n",
        "  print(rmse)\n",
        "  print(\"\\n\\n\")\n"
      ],
      "execution_count": 0,
      "outputs": []
    },
    {
      "cell_type": "code",
      "metadata": {
        "id": "yDn4NcJDCldY",
        "colab_type": "code",
        "colab": {}
      },
      "source": [
        "#Method for stock price prediction using support vector regression model\n",
        "def SVRModel(stockname):\n",
        "  df = pd.read_csv('sentimentAnalysis_' + stockname  + '.csv', encoding='utf-8')\n",
        "  train, test = train_test_split(df, shuffle=False, test_size=0.2)\n",
        "\n",
        "  sentiment_score_list_train = []\n",
        "  for date, row in train.T.iteritems():\n",
        "    sentiment_score = np.asarray([df.loc[date, 'Negative'],  df.loc[date, 'Neutral'], df.loc[date, 'Positive']])\n",
        "    sentiment_score_list_train.append(sentiment_score)\n",
        "  numpy_df_train = np.asarray(sentiment_score_list_train)\n",
        "\n",
        "  sentiment_score_list_test = []\n",
        "  for date, row in test.T.iteritems():\n",
        "    sentiment_score = np.asarray([df.loc[date, 'Negative'],  df.loc[date, 'Neutral'], df.loc[date, 'Positive']])\n",
        "    sentiment_score_list_test.append(sentiment_score)\n",
        "  numpy_df_test = np.asarray(sentiment_score_list_test)\n",
        "\n",
        "  y_train = pd.DataFrame(train['Prices'])\n",
        "  y_test = pd.DataFrame(test['Prices'])\n",
        "\n",
        "  svr_rbf = SVR(kernel='rbf', C=1e6, gamma=0.1)\n",
        "  svr_rbf.fit(numpy_df_train, y_train.values.flatten())\n",
        "  output_test_svm = svr_rbf.predict(numpy_df_test)\n",
        "\n",
        "  plt.figure()\n",
        "  plt.plot(test['Prices'].iloc[:].values)\n",
        "  plt.plot(output_test_svm)\n",
        "  plt.title('SVM predicted prices')\n",
        "  plt.ylabel('Stock Prices')\n",
        "  plt.xlabel('Days')\n",
        "  plt.legend(['actual', 'predicted'])\n",
        "  plt.show()\n",
        "\n",
        "  print(\"\\n\\n\")\n",
        "  print(\"RMSE value for Support Vector Regression Model : \")\n",
        "  rmse = sqrt(mean_squared_error(y_test, output_test_svm))\n",
        "  print(rmse)\n",
        "  print(\"\\n\\n\")\n"
      ],
      "execution_count": 0,
      "outputs": []
    },
    {
      "cell_type": "code",
      "metadata": {
        "id": "9eoV77Alrs5W",
        "colab_type": "code",
        "outputId": "6b00dd30-8522-429d-f067-7db59481c893",
        "colab": {
          "base_uri": "https://localhost:8080/",
          "height": 1000
        }
      },
      "source": [
        "def main():\n",
        "  name = input(\"Enter a valid STOCKNAME of the Corporation: \") #enter the name of the company\n",
        "  start_date = input(\"Enter the Start Date in the following format[YYYY-MM-DD]: \") #enter the start date to fetch the tweets\n",
        "  end_date = input(\"Enter the End Date in the following format[YYYY-MM-DD]: \" ) #enter the end date to fetch the tweets\n",
        "  \n",
        "  if(len(name) > 0):\n",
        "    STOCKNAME  = name\n",
        "  else:\n",
        "    STOCKNAME = \"AAPL\"\n",
        "  \n",
        "  if(len(start_date) > 0):\n",
        "    start_time = start_date\n",
        "  else:\n",
        "    start_time = \"2018-01-01\"\n",
        "  \n",
        "  if(len(end_date) > 0):\n",
        "    end_time = end_date\n",
        "  else:\n",
        "    end_time = \"2019-12-31\"\n",
        "\n",
        "\n",
        "  #Get Stock Details\n",
        "  print(\"------------------------------ Getting Stock details -----------------------------\")\n",
        "  stockData = getStockDetails(STOCKNAME,start_time,end_time)\n",
        "  print(\"Stock Details fetched! \\n\")\n",
        "\n",
        "  #Fetching tweets\n",
        "  print(\"------------------------------ Fetching Tweets -----------------------------\")\n",
        "  fetchTweets(STOCKNAME,start_time,end_time)\n",
        "  print(\"Tweets fetched! \\n\")\n",
        "\n",
        "  #Get tweets Per Day and get the stock closing values for each date\n",
        "  print(\"------------------------------ Processing Tweets -----------------------------\")\n",
        "  processTweets(STOCKNAME)\n",
        "  print(\"Processed Tweets ! \\n\")\n",
        "\n",
        "  #Perform Sentiment Analysis\n",
        "  print(\"------------------------------ Performing Sentiment Analysis -----------------------------\")\n",
        "  sentimentAnalysis(STOCKNAME)\n",
        "  print(\"Completed Sentiment Analysis on Tweets ! \\n\\n\")\n",
        "  #time.sleep(10);\n",
        "\n",
        "  #Training and Predicting using Random Forest Regression Model\n",
        "  print(\"--------  Training and Predicting using Random Forest Regression Model -------\")\n",
        "  RandomForestModel(STOCKNAME)\n",
        "  print(\"\\n \\n\")\n",
        "\n",
        "  #Training and Predicting using Support Vecor Regression Model\n",
        "  print(\"-------- Training and Predicting using Support Vector Regression Model ------------\")\n",
        "  SVRModel(STOCKNAME)\n",
        "  print(\"\\n \\n\")\n",
        "\n",
        "main()"
      ],
      "execution_count": 0,
      "outputs": [
        {
          "output_type": "stream",
          "text": [
            "Enter a valid STOCKNAME of the Corporation: MSFT\n",
            "Enter the Start Date in the following format[YYYY-MM-DD]: 2018-01-01\n",
            "Enter the End Date in the following format[YYYY-MM-DD]: 2019-12-31\n",
            "------------------------------ Getting Stock details -----------------------------\n",
            "[*********************100%***********************]  1 of 1 completed\n",
            "\n",
            " Stock Data Obtained \n",
            "                 Open       High        Low      Close  Adj Close    Volume\n",
            "Date                                                                       \n",
            "2018-01-02  86.129997  86.309998  85.500000  85.949997  83.029594  22483800\n",
            "2018-01-03  86.059998  86.510002  85.970001  86.349998  83.415993  26061400\n",
            "2018-01-04  86.589996  87.660004  86.570000  87.110001  84.150192  21912000\n",
            "2018-01-05  87.660004  88.410004  87.430000  88.190002  85.193497  23407100\n",
            "2018-01-08  88.199997  88.580002  87.599998  88.279999  85.280426  22113000\n",
            "\n",
            "\n"
          ],
          "name": "stdout"
        },
        {
          "output_type": "display_data",
          "data": {
            "image/png": "[encoded data removed]",
            "text/plain": [
              "<Figure size 432x288 with 1 Axes>"
            ]
          },
          "metadata": {
            "tags": [],
            "needs_background": "light"
          }
        },
        {
          "output_type": "stream",
          "text": [
            "\n",
            "\n",
            "Stock Details fetched! \n",
            "\n",
            "------------------------------ Fetching Tweets -----------------------------\n",
            "Tweets fetched! \n",
            "\n",
            "------------------------------ Processing Tweets -----------------------------\n",
            "         Date                                             Tweets  Prices\n",
            "0  2019-12-30  $AAPL climbed from -1.5% to +0.5% and is the o...     157\n",
            "1  2019-12-27   Microsoft (MSFT) and Apple (AAPL) are Now Big...     158\n",
            "2  2019-12-30   Here's what our traders are looking at first ...     157\n",
            "3  2019-12-27   $ALPP $19m MC on $50m revenue company. @alpin...     158\n",
            "4  2019-12-26   Santa rally sure seems to be in full swing. C...     158\n",
            "Processed Tweets ! \n",
            "\n",
            "------------------------------ Performing Sentiment Analysis -----------------------------\n",
            "         Date  ... Positive\n",
            "0  2019-12-30  ...    0.147\n",
            "1  2019-12-27  ...    0.049\n",
            "2  2019-12-30  ...     0.02\n",
            "3  2019-12-27  ...    0.105\n",
            "4  2019-12-26  ...    0.098\n",
            "\n",
            "[5 rows x 7 columns]\n",
            "% of positive tweets=  87.03703703703704\n",
            "% of negative tweets=  6.378600823045268\n",
            "% of neutral tweets=  6.584362139917696\n",
            "Completed Sentiment Analysis on Tweets ! \n",
            "\n",
            "\n",
            "--------  Training and Predicting using Random Forest Regression Model -------\n"
          ],
          "name": "stdout"
        },
        {
          "output_type": "stream",
          "text": [
            "/usr/local/lib/python3.6/dist-packages/ipykernel_launcher.py:21: DataConversionWarning: A column-vector y was passed when a 1d array was expected. Please change the shape of y to (n_samples,), for example using ravel().\n"
          ],
          "name": "stderr"
        },
        {
          "output_type": "stream",
          "text": [
            "\n",
            "\n",
            "\n"
          ],
          "name": "stdout"
        },
        {
          "output_type": "display_data",
          "data": {
            "image/png": "[encoded data removed]",
            "text/plain": [
              "<Figure size 432x288 with 1 Axes>"
            ]
          },
          "metadata": {
            "tags": []
          }
        },
        {
          "output_type": "display_data",
          "data": {
            "image/png": "[encoded data removed]",
            "text/plain": [
              "<Figure size 432x288 with 1 Axes>"
            ]
          },
          "metadata": {
            "tags": [],
            "needs_background": "light"
          }
        },
        {
          "output_type": "stream",
          "text": [
            "\n",
            "\n",
            "\n",
            "RMSE value for Random Forest Model : \n",
            "31.398801245798342\n",
            "\n",
            "\n",
            "\n",
            "\n",
            " \n",
            "\n",
            "-------- Training and Predicting using Support Vector Regression Model ------------\n"
          ],
          "name": "stdout"
        },
        {
          "output_type": "display_data",
          "data": {
            "image/png": "[encoded data removed]",
            "text/plain": [
              "<Figure size 432x288 with 1 Axes>"
            ]
          },
          "metadata": {
            "tags": [],
            "needs_background": "light"
          }
        },
        {
          "output_type": "stream",
          "text": [
            "\n",
            "\n",
            "\n",
            "RMSE value for Support Vector Regression Model : \n",
            "24.601051596554772\n",
            "\n",
            "\n",
            "\n",
            "\n",
            " \n",
            "\n"
          ],
          "name": "stdout"
        }
      ]
    },
    {
      "cell_type": "code",
      "metadata": {
        "id": "NZfb5UFwl-3h",
        "colab_type": "code",
        "colab": {}
      },
      "source": [
        ""
      ],
      "execution_count": 0,
      "outputs": []
    }
  ]
}